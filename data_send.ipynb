{
 "cells": [
  {
   "cell_type": "markdown",
   "metadata": {},
   "source": [
    "# CURD Operations on firestore database"
   ]
  },
  {
   "cell_type": "code",
   "execution_count": null,
   "metadata": {},
   "outputs": [],
   "source": [
    "# import required library\n",
    "import firebase_admin\n",
    "import google.cloud\n",
    "from firebase_admin import credentials, firestore\n",
    "import names\n",
    "import random\n",
    "from random import randint\n",
    "import string \n",
    "import time"
   ]
  },
  {
   "cell_type": "code",
   "execution_count": null,
   "metadata": {},
   "outputs": [],
   "source": [
    "# get access to firestore database\n",
    "cred = credentials.Certificate(\"D:/Parth/serviceAccountKey.json\",)\n",
    "firebase_admin.initialize_app(cred)\n",
    "db = firestore.client()"
   ]
  },
  {
   "cell_type": "code",
   "execution_count": null,
   "metadata": {},
   "outputs": [],
   "source": [
    "# Add data to collection\n",
    "doc_ref = db.collection('farmers')\n",
    "tmp = {'name': names.get_full_name(gender='male'), 'age': randint(20,70)}\n",
    "doc_ref.add(tmp) "
   ]
  },
  {
   "cell_type": "code",
   "execution_count": null,
   "metadata": {},
   "outputs": [],
   "source": [
    "# Add data with cusmize id\n",
    "doc_ref.document('parth').create({'strength': 100, 'name': 'parth', 'sugars': '0'})"
   ]
  },
  {
   "cell_type": "code",
   "execution_count": null,
   "metadata": {},
   "outputs": [],
   "source": [
    "# Get data from collection\n",
    "doc_ref = db.collection('farmers')\n",
    "data = []\n",
    "\n",
    "docs = doc_ref.get()\n",
    "for doc in docs:\n",
    "    tmp = doc.to_dict()\n",
    "    tmp.update({'id': doc.id})\n",
    "    data.append(tmp)\n",
    "\n",
    "data"
   ]
  },
  {
   "cell_type": "code",
   "execution_count": null,
   "metadata": {},
   "outputs": [],
   "source": [
    "# Get data from id\n",
    "doc_ref.document('5IaY74fKEHd8EOLgWyOQ').get().to_dict()\n"
   ]
  },
  {
   "cell_type": "code",
   "execution_count": null,
   "metadata": {},
   "outputs": [],
   "source": [
    "# get data within collection of collection\n",
    "ref = doc_ref.document('5IaY74fKEHd8EOLgWyOQ').collection('farm')\n",
    "data = []\n",
    "\n",
    "docs = ref.get()\n",
    "for doc in docs:\n",
    "    tmp = doc.to_dict()\n",
    "    tmp.update({'id': doc.id})\n",
    "    data.append(tmp)\n",
    "\n",
    "data"
   ]
  },
  {
   "cell_type": "code",
   "execution_count": null,
   "metadata": {},
   "outputs": [],
   "source": [
    "# update data\n",
    "\n",
    "doc = doc_ref.document('5IaY74fKEHd8EOLgWyOQ') # doc is DocumentReference\n",
    "field_updates = {\"description\": \"Updated description\"}\n",
    "doc.update(field_updates)\n"
   ]
  },
  {
   "cell_type": "code",
   "execution_count": null,
   "metadata": {},
   "outputs": [],
   "source": [
    "# remove document\n",
    "doc_ref.document('5IaY74fKEHd8EOLgWyOQ').delete()"
   ]
  },
  {
   "cell_type": "code",
   "execution_count": null,
   "metadata": {},
   "outputs": [],
   "source": [
    "res = data[0]['timestamp']\n",
    "res"
   ]
  },
  {
   "cell_type": "markdown",
   "metadata": {},
   "source": [
    "\n"
   ]
  },
  {
   "cell_type": "markdown",
   "metadata": {},
   "source": [
    "# How to do ..."
   ]
  },
  {
   "cell_type": "markdown",
   "metadata": {},
   "source": [
    "## This is imp function to convert DatetimeWithNanoSecond into Datetime\n"
   ]
  },
  {
   "cell_type": "code",
   "execution_count": null,
   "metadata": {},
   "outputs": [],
   "source": [
    "\n",
    "# This is imp method to convert DatetimeWithNanoSecond into Datetime\n",
    "\n",
    "def DatetimeWithNanoseconds_To_Datetime(arg):\n",
    "    import io\n",
    "    from contextlib import redirect_stdout\n",
    "    from datetime import datetime\n",
    "\n",
    "    with io.StringIO() as buf, redirect_stdout(buf):\n",
    "        print(arg)\n",
    "        strVal = buf.getvalue()\n",
    "\n",
    "    strVal = strVal[2:19]\n",
    "\n",
    "    datetime_object = datetime.strptime(strVal, '%y-%m-%d %H:%M:%S') \n",
    "    return datetime_object\n",
    "\n",
    "    \n",
    "t = DatetimeWithNanoseconds_To_Datetime(res)   # res is DatetimeWithNanoseconds object\n",
    "print(t)"
   ]
  },
  {
   "cell_type": "code",
   "execution_count": null,
   "metadata": {},
   "outputs": [],
   "source": [
    "# Random name generator\n",
    "\n",
    "import names\n",
    "for i in range(5):\n",
    "    print(names.get_full_name(gender='male'))\n",
    "print('\\n')\n",
    "for i in range(5):\n",
    "    print(names.get_first_name(gender='male'))\n",
    "print('\\n')\n",
    "for i in range(5):\n",
    "    print(names.get_last_name())\n",
    "    "
   ]
  },
  {
   "cell_type": "code",
   "execution_count": null,
   "metadata": {},
   "outputs": [],
   "source": [
    "# Random integer generator\n",
    "from random import randint\n",
    "randint(0,10)"
   ]
  },
  {
   "cell_type": "code",
   "execution_count": null,
   "metadata": {},
   "outputs": [],
   "source": [
    "# random boolean value generator\n",
    "for i in range(5):\n",
    "    random_bit = random.getrandbits(1)\n",
    "    random_boolean = bool(random_bit)\n",
    "    print(random_boolean)"
   ]
  },
  {
   "cell_type": "code",
   "execution_count": 3,
   "metadata": {},
   "outputs": [],
   "source": [
    "# Random 32 character long letter + digits id generator \n",
    "\n",
    "import string\n",
    "import random\n",
    "\n",
    "id = ''.join([random.choice(string.ascii_letters + string.digits) for n in range(32)]) "
   ]
  },
  {
   "cell_type": "code",
   "execution_count": null,
   "metadata": {},
   "outputs": [],
   "source": []
  }
 ],
 "metadata": {
  "kernelspec": {
   "display_name": "Python 3",
   "language": "python",
   "name": "python3"
  },
  "language_info": {
   "codemirror_mode": {
    "name": "ipython",
    "version": 3
   },
   "file_extension": ".py",
   "mimetype": "text/x-python",
   "name": "python",
   "nbconvert_exporter": "python",
   "pygments_lexer": "ipython3",
   "version": "3.7.1"
  }
 },
 "nbformat": 4,
 "nbformat_minor": 2
}
