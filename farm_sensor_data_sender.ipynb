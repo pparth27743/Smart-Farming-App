{
 "cells": [
  {
   "cell_type": "code",
   "execution_count": null,
   "metadata": {},
   "outputs": [],
   "source": [
    "# import required library\n",
    "import firebase_admin\n",
    "import google.cloud\n",
    "from firebase_admin import credentials, firestore\n",
    "import names\n",
    "import random\n",
    "from random import randint\n",
    "import string \n",
    "import time\n"
   ]
  },
  {
   "cell_type": "code",
   "execution_count": null,
   "metadata": {},
   "outputs": [],
   "source": [
    "# function defined here\n",
    "\n",
    "\n",
    "# This is imp method to convert DatetimeWithNanoSecond into Datetime\n",
    "def DatetimeWithNanoseconds_To_Datetime(arg):  # arg is DatetimeWithNanoseconds object\n",
    "    import io\n",
    "    from contextlib import redirect_stdout\n",
    "    from datetime import datetime\n",
    "\n",
    "    with io.StringIO() as buf, redirect_stdout(buf):\n",
    "        print(arg)\n",
    "        strVal = buf.getvalue()\n",
    "\n",
    "    strVal = strVal[2:19]\n",
    "\n",
    "    datetime_object = datetime.strptime(strVal, '%y-%m-%d %H:%M:%S') \n",
    "    return datetime_object\n"
   ]
  },
  {
   "cell_type": "code",
   "execution_count": null,
   "metadata": {},
   "outputs": [],
   "source": [
    "\n",
    "# get access to firestore database\n",
    "#cred = credentials.Certificate(\"D:/Parth/brew_crew_serviceAccountKey.json\",)\n",
    "cred = credentials.Certificate(\"D:/Parth/smart_farm_system_serviceAcountKey.json\",)\n",
    "firebase_admin.initialize_app(cred)\n",
    "db = firestore.client()\n"
   ]
  },
  {
   "cell_type": "code",
   "execution_count": null,
   "metadata": {},
   "outputs": [],
   "source": [
    "farmer_ref = db.collection('farmers')\n"
   ]
  },
  {
   "cell_type": "code",
   "execution_count": null,
   "metadata": {},
   "outputs": [],
   "source": [
    "ids = []\n",
    "docs = farmer_ref.get()\n",
    "for doc in docs:\n",
    "    ids.append(doc.id)\n",
    "\n",
    "    "
   ]
  },
  {
   "cell_type": "code",
   "execution_count": null,
   "metadata": {},
   "outputs": [],
   "source": [
    "# Randomly generate farm data for each farmer\n",
    "\n",
    "for i in range(1):\n",
    "\n",
    "    # add 'farm' collection in a parocular record of 'farmers' collectiom \n",
    "    #add farm details about farmer (may have more than 1 farm)\n",
    "    \n",
    "    for id in ids:\n",
    "        farm_ref = farmer_ref.document(id).collection('farm')\n",
    "            \n",
    "        farm = {'humidity': randint(20,70),\n",
    "          'temp': randint(20,45),\n",
    "          'soil moisture': randint(20,70),\n",
    "            'rooftop': bool(random.getrandbits(1)),\n",
    "          'pump': bool(random.getrandbits(1)),\n",
    "            'timestamp':firestore.SERVER_TIMESTAMP}\n",
    "        \n",
    "        farm_ref.add(farm)\n",
    "        \n",
    "    time.sleep(60)\n"
   ]
  },
  {
   "cell_type": "code",
   "execution_count": null,
   "metadata": {},
   "outputs": [],
   "source": []
  },
  {
   "cell_type": "code",
   "execution_count": null,
   "metadata": {},
   "outputs": [],
   "source": [
    "farm_ref = farmer_ref.document(ids[2]).collection('farm')\n",
    "\n",
    "data = []\n",
    "\n",
    "docs = farm_ref.get()\n",
    "for doc in docs:\n",
    "    tmp = doc.to_dict()\n",
    "    tmp.update({'id': doc.id})\n",
    "    data.append(tmp)\n",
    "    "
   ]
  },
  {
   "cell_type": "code",
   "execution_count": null,
   "metadata": {},
   "outputs": [],
   "source": [
    "# Get last 3 documents in descending order of timestamp\n",
    "\n",
    "res = []\n",
    "\n",
    "result = farmer_ref.document('9Tkd8w0yzEXascylKpE8Rj6M4wF3').collection('farm').order_by('timestamp', direction=firestore.Query.DESCENDING).limit(3).stream()\n",
    "\n",
    "# result = result.get()\n",
    "for doc in result:\n",
    "    tmp = doc.to_dict()\n",
    "    tmp.update({'id': doc.id})\n",
    "    res.append(tmp)\n",
    "    \n",
    "res"
   ]
  },
  {
   "cell_type": "code",
   "execution_count": null,
   "metadata": {},
   "outputs": [],
   "source": [
    "# fire query in firestore database\n",
    "\n",
    "res = []\n",
    "\n",
    "result = farmer_ref.document('9Tkd8w0yzEXascylKpE8Rj6M4wF3').collection('farm').where('temp', '>', 35)\n",
    "\n",
    "result = result.get()\n",
    "for doc in result:\n",
    "    tmp = doc.to_dict()\n",
    "    tmp.update({'id': doc.id})\n",
    "    res.append(tmp)\n",
    "    \n",
    "res"
   ]
  },
  {
   "cell_type": "code",
   "execution_count": null,
   "metadata": {},
   "outputs": [],
   "source": [
    "import datetime\n",
    "import random\n",
    "import matplotlib.pyplot as plt\n",
    "\n",
    "\n",
    "tmp = []\n",
    "x = []\n",
    "y = []\n",
    "for i in data:\n",
    "    x.append(DatetimeWithNanoseconds_To_Datetime(i['timestamp']))\n",
    "    y.append(i['humidity'])\n",
    "\n",
    "x = sorted(x)\n",
    "\n",
    "\n",
    "# plot\n",
    "plt.plot(x,y)\n",
    "# beautify the x-labels\n",
    "plt.gcf().autofmt_xdate()\n",
    "\n",
    "plt.show()"
   ]
  },
  {
   "cell_type": "code",
   "execution_count": null,
   "metadata": {},
   "outputs": [],
   "source": [
    "\n"
   ]
  }
 ],
 "metadata": {
  "kernelspec": {
   "display_name": "Python 3",
   "language": "python",
   "name": "python3"
  },
  "language_info": {
   "codemirror_mode": {
    "name": "ipython",
    "version": 3
   },
   "file_extension": ".py",
   "mimetype": "text/x-python",
   "name": "python",
   "nbconvert_exporter": "python",
   "pygments_lexer": "ipython3",
   "version": "3.7.1"
  }
 },
 "nbformat": 4,
 "nbformat_minor": 2
}
